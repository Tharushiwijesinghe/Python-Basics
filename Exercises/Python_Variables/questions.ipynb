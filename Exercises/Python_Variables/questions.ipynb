#q1
break = 5
print(break)


#q2
a = 1999
b = 2024

age = b - a
print("My Age is" , age , "when 2024")


#q3
firstname = "Tharushi"
Middlename = "Shashikala"
lastname = "Wjiesinghe"

print("My name is "+ firstname + " "+ Middlename + " " + lastname)


#q4
#invalid variables
1recode, recode-one, recode^one, continue
